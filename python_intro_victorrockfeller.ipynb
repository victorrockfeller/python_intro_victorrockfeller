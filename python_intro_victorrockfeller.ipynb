{
  "nbformat": 4,
  "nbformat_minor": 0,
  "metadata": {
    "colab": {
      "name": "python_intro_victorrockfeller.ipynb",
      "provenance": [],
      "collapsed_sections": [
        "1gApdkqgLXKj",
        "DMgkyMTTL19Z",
        "Nh39_SevNKtR"
      ],
      "include_colab_link": true
    },
    "kernelspec": {
      "name": "python3",
      "display_name": "Python 3"
    }
  },
  "cells": [
    {
      "cell_type": "markdown",
      "metadata": {
        "id": "view-in-github",
        "colab_type": "text"
      },
      "source": [
        "<a href=\"https://colab.research.google.com/github/victorrockfeller/python_intro_victorrockfeller/blob/main/python_intro_victorrockfeller.ipynb\" target=\"_parent\"><img src=\"https://colab.research.google.com/assets/colab-badge.svg\" alt=\"Open In Colab\"/></a>"
      ]
    },
    {
      "cell_type": "markdown",
      "metadata": {
        "id": "s1YHdkKsLHv0"
      },
      "source": [
        "## Python: Conhecendo a Linguagem\n",
        "\n"
      ]
    },
    {
      "cell_type": "markdown",
      "metadata": {
        "id": "1gApdkqgLXKj"
      },
      "source": [
        "# O que é Programação?"
      ]
    },
    {
      "cell_type": "markdown",
      "metadata": {
        "id": "CO1A_FvGS1ta"
      },
      "source": [
        "## O que é um programa de computador?\n",
        "## O que é um algoritmo?"
      ]
    },
    {
      "cell_type": "markdown",
      "metadata": {
        "id": "DMgkyMTTL19Z"
      },
      "source": [
        "# Um pouco mais Sobre o Python"
      ]
    },
    {
      "cell_type": "markdown",
      "metadata": {
        "id": "tYa8OguAS87U"
      },
      "source": [
        "## O que programar? (aplicações)\n",
        "## Aonde programar? (ambientes)\n",
        "## Como instalar o interpretador? "
      ]
    },
    {
      "cell_type": "markdown",
      "metadata": {
        "id": "6TwoUJstMFLm"
      },
      "source": [
        "# A linguagem (\"Hello World\")"
      ]
    },
    {
      "cell_type": "code",
      "metadata": {
        "id": "C9WsLUJoT0bP",
        "outputId": "54398627-5671-47e4-bc54-6141ede6ba1f",
        "colab": {
          "base_uri": "https://localhost:8080/",
          "height": 35
        }
      },
      "source": [
        "print(\"Hello World\")"
      ],
      "execution_count": null,
      "outputs": [
        {
          "output_type": "stream",
          "text": [
            "Hello World\n"
          ],
          "name": "stdout"
        }
      ]
    },
    {
      "cell_type": "markdown",
      "metadata": {
        "id": "DZ7l7kimMJG3"
      },
      "source": [
        "#Tipos de Dados básicos"
      ]
    },
    {
      "cell_type": "code",
      "metadata": {
        "id": "30Z0YovCLGcO",
        "outputId": "cc60ebb2-6f04-43cc-fba4-06d04b14d606",
        "colab": {
          "base_uri": "https://localhost:8080/",
          "height": 109
        }
      },
      "source": [
        "print(type(2)) # O tipo do número 2 é int (número inteiro)\n",
        "print(type(2.5)) # O tipo do número 2.5 é float (número decimal)\n",
        "print(type(1+1j)) # O tipo do número 1 + 1j (j é o número imaginário) é complex\n",
        "print(type('O termo \"termo\" esta entre aspas\\n')) # Sequencia de caracteres para armazenar texto\n",
        "print(type(False)) # tipo booleano para Verdadeiro (True) e Falso (False)"
      ],
      "execution_count": null,
      "outputs": [
        {
          "output_type": "stream",
          "text": [
            "<class 'int'>\n",
            "<class 'float'>\n",
            "<class 'complex'>\n",
            "<class 'str'>\n",
            "<class 'bool'>\n"
          ],
          "name": "stdout"
        }
      ]
    },
    {
      "cell_type": "markdown",
      "metadata": {
        "id": "aU6gFhrxM8TS"
      },
      "source": [
        "## Variáveis\n",
        "\n",
        "Uma variável não pode ter o nome comçado por números, eveitmem palavras-chave da linaguagem e caracateres especiais"
      ]
    },
    {
      "cell_type": "code",
      "metadata": {
        "id": "ChunySn1M-oz"
      },
      "source": [
        "altura_do_Victor = 1.98 # nome_da_variavel = valor\n",
        "texto = \"Hello world\"\n",
        "chovendo = False"
      ],
      "execution_count": null,
      "outputs": []
    },
    {
      "cell_type": "code",
      "metadata": {
        "id": "f8oZIuse2f3u",
        "outputId": "af2218f7-7d6f-4522-810c-969173662b11",
        "colab": {
          "base_uri": "https://localhost:8080/",
          "height": 35
        }
      },
      "source": [
        "print(altura, texto, chovendo)"
      ],
      "execution_count": null,
      "outputs": [
        {
          "output_type": "stream",
          "text": [
            "1.98 Hello world False\n"
          ],
          "name": "stdout"
        }
      ]
    },
    {
      "cell_type": "markdown",
      "metadata": {
        "id": "1NlSUBtMM_7H"
      },
      "source": [
        "## Operações básicas (e nem tão básicas)"
      ]
    },
    {
      "cell_type": "markdown",
      "metadata": {
        "id": "ZTpQVXKzNHtY"
      },
      "source": [
        "### Com dados numéricos"
      ]
    },
    {
      "cell_type": "code",
      "metadata": {
        "id": "-UCzQIB9NF-j",
        "outputId": "669e9494-46b2-4952-87eb-ec5326133331",
        "colab": {
          "base_uri": "https://localhost:8080/",
          "height": 146
        }
      },
      "source": [
        "print(2.5+5j + 1) # o '+' é a soma usual\n",
        "print(10 - 1) # o '-' é a subtração usual\n",
        "print(2 * -2.5) # o '*' é a multiplicação usual\n",
        "print(10 / 3) # o '/' é a divisão usual\n",
        "\n",
        "print(4 ** -0.5) # o '**' é a potenciação\n",
        "print(10 // 3 ) # o '//' é o quociente da divisão inteira\n",
        "print(10 % 3) # o '%' é o resto da divisão inteiro"
      ],
      "execution_count": null,
      "outputs": [
        {
          "output_type": "stream",
          "text": [
            "(3.5+5j)\n",
            "9\n",
            "-5.0\n",
            "3.3333333333333335\n",
            "0.5\n",
            "3\n",
            "1\n"
          ],
          "name": "stdout"
        }
      ]
    },
    {
      "cell_type": "markdown",
      "metadata": {
        "id": "Nh39_SevNKtR"
      },
      "source": [
        "### Com dados texto"
      ]
    },
    {
      "cell_type": "code",
      "metadata": {
        "id": "pjuPh9l2N61P",
        "outputId": "dffe002b-7092-4cac-e358-1754fbe2c09f",
        "colab": {
          "base_uri": "https://localhost:8080/",
          "height": 69
        }
      },
      "source": [
        "#anos = input(\"Digite sua idade: \")\n",
        "frase = \"Ola eu sou Victor e tenho \" + anos  + \" anos\" # o '+' é a concatenação de strings\n",
        "print(frase)\n",
        "print(\"repete \" * 10) # o '*' repete a string x vezes onde x é um número inteiro"
      ],
      "execution_count": null,
      "outputs": [
        {
          "output_type": "stream",
          "text": [
            "Digite sua idade: 29\n",
            "Ola eu sou Victor e tenho 29 anos\n",
            "repete repete repete repete repete repete repete repete repete repete \n"
          ],
          "name": "stdout"
        }
      ]
    },
    {
      "cell_type": "markdown",
      "metadata": {
        "id": "yIOzt-VHN8hi"
      },
      "source": [
        "### Com booleanos"
      ]
    },
    {
      "cell_type": "code",
      "metadata": {
        "id": "Cxw63HxZSCLl",
        "outputId": "6840d8a8-c58c-4e53-cb1e-6e8b7fa651e8",
        "colab": {
          "base_uri": "https://localhost:8080/",
          "height": 35
        }
      },
      "source": [
        "True +  False # converte o True para 1 e o False para 0 e faz numericamente"
      ],
      "execution_count": null,
      "outputs": [
        {
          "output_type": "execute_result",
          "data": {
            "text/plain": [
              "1"
            ]
          },
          "metadata": {
            "tags": []
          },
          "execution_count": 83
        }
      ]
    },
    {
      "cell_type": "code",
      "metadata": {
        "id": "EcB7GNrHN_fQ",
        "outputId": "07e76e11-70f9-4634-cee8-91f065397e6c",
        "colab": {
          "base_uri": "https://localhost:8080/",
          "height": 35
        }
      },
      "source": [
        "True + 4"
      ],
      "execution_count": null,
      "outputs": [
        {
          "output_type": "execute_result",
          "data": {
            "text/plain": [
              "5"
            ]
          },
          "metadata": {
            "tags": []
          },
          "execution_count": 85
        }
      ]
    },
    {
      "cell_type": "markdown",
      "metadata": {
        "id": "Ra79Ziq8FY4_"
      },
      "source": [
        "# Conversor de Moedas"
      ]
    },
    {
      "cell_type": "code",
      "metadata": {
        "id": "82qfJMPHFmos"
      },
      "source": [
        "### Escreva uma sequência que converta um valor em real para dólar\n",
        "valor_em_real = float(input(\"Digite o valor em reais: \"))\n",
        "valor_em_dolar"
      ],
      "execution_count": null,
      "outputs": []
    },
    {
      "cell_type": "markdown",
      "metadata": {
        "id": "Y19Z_OGlRlSE"
      },
      "source": [
        "# Desvios condicionais"
      ]
    },
    {
      "cell_type": "markdown",
      "metadata": {
        "id": "5G2rYzuzRrOL"
      },
      "source": [
        ""
      ]
    },
    {
      "cell_type": "code",
      "metadata": {
        "id": "DY8hZfFOuQq_",
        "outputId": "1a29f796-70ca-47de-b1cc-cf081c480ca5",
        "colab": {
          "base_uri": "https://localhost:8080/",
          "height": 35
        }
      },
      "source": [
        "if False:\n",
        "  print('Era verdadeiro')\n",
        "  print('Outro testo do if')\n",
        "print('Imprimo independente do if')"
      ],
      "execution_count": null,
      "outputs": [
        {
          "output_type": "stream",
          "text": [
            "Imprimo independente do if\n"
          ],
          "name": "stdout"
        }
      ]
    },
    {
      "cell_type": "code",
      "metadata": {
        "id": "2oMZOXUuu90K",
        "outputId": "245e6c90-7841-41e0-b51b-51d926b06f0d",
        "colab": {
          "base_uri": "https://localhost:8080/",
          "height": 52
        }
      },
      "source": [
        "if True:\n",
        "  print('Era verdadeiro')\n",
        "print('Imprimo independente do if')"
      ],
      "execution_count": null,
      "outputs": [
        {
          "output_type": "stream",
          "text": [
            "Era verdadeiro\n",
            "Imprimo independente do if\n"
          ],
          "name": "stdout"
        }
      ]
    },
    {
      "cell_type": "code",
      "metadata": {
        "id": "nDtliIM4vqfp",
        "outputId": "5173deb2-d850-4b31-8e49-89b1f3470ac8",
        "colab": {
          "base_uri": "https://localhost:8080/",
          "height": 225
        }
      },
      "source": [
        "#operadores de comparação\n",
        "\n",
        "print(\"3 == 2:\", 3 == 2) # '==' representa igualdade\n",
        "print(\"texto\" == \"texto\", \"texto\" == \"texto\")\n",
        "print(\"2.34 == 2.34:\", \"2.34\" == 2.34)\n",
        "variavel = '5.78'\n",
        "print(\"variavel == 5.78:\", variavel == 5.78)\n",
        "\n",
        "print(\"2 > 3:\", 2 > 2) # '>' verifica se o número a esquerda do símbolo é maior que o da direita\n",
        "print(\"2 < 3:\", 2 < 3) # '>' verifica se o número a esquerda do símbolo é menor que o da direita\n",
        "\n",
        "print(\"2 >= 3:\", 2 >= 3) # '>' verifica se o número a esquerda do símbolo é maior ou igaul que o da direita\n",
        "print(\"2 >= 2:\", 2 >= 2)\n",
        "print(\"2 <= 3:\", 2 <= 3) # '<' verifica se o número a esquerda so símbolo é menor ou igual que o da direita \n",
        "print(\"2 <= 2:\", 2 <= 2)\n",
        "\n",
        "print(\"2 != 2:\", 2 != 2) # '!=' verifica se o número a esquerda do símbolo são diferentes\n",
        "print(\"2 != 3:\", 2 != 3)"
      ],
      "execution_count": null,
      "outputs": [
        {
          "output_type": "stream",
          "text": [
            "3 == 2: False\n",
            "True True\n",
            "2.34 == 2.34: False\n",
            "variavel == 5.78: False\n",
            "2 > 3: False\n",
            "2 < 3: True\n",
            "2 >= 3: False\n",
            "2 >= 2: True\n",
            "2 <= 3: True\n",
            "2 <= 2: True\n",
            "2 != 2: False\n",
            "2 != 3: True\n"
          ],
          "name": "stdout"
        }
      ]
    },
    {
      "cell_type": "code",
      "metadata": {
        "id": "HbMcru8MzobR",
        "outputId": "60089012-009f-486a-ce31-35044751423e",
        "colab": {
          "base_uri": "https://localhost:8080/",
          "height": 35
        }
      },
      "source": [
        "\"abc\".lower() == \"ABc\".lower()"
      ],
      "execution_count": null,
      "outputs": [
        {
          "output_type": "execute_result",
          "data": {
            "text/plain": [
              "True"
            ]
          },
          "metadata": {
            "tags": []
          },
          "execution_count": 24
        }
      ]
    },
    {
      "cell_type": "code",
      "metadata": {
        "id": "c1MCOPOBzxG1",
        "outputId": "3d092024-4275-43c1-d535-69b9704d1448",
        "colab": {
          "base_uri": "https://localhost:8080/",
          "height": 52
        }
      },
      "source": [
        "valor = int(input(\"Digite um número: \"))\n",
        "if valor > 10:\n",
        "  print(\"Seu número é maior que 10\")"
      ],
      "execution_count": null,
      "outputs": [
        {
          "output_type": "stream",
          "text": [
            "Digite um número: 50\n",
            "Seu número é maior que 10\n"
          ],
          "name": "stdout"
        }
      ]
    },
    {
      "cell_type": "code",
      "metadata": {
        "id": "o9BlGBfK0KvQ",
        "outputId": "df00677f-d0b5-422f-8e74-ae6c2ec4d03a",
        "colab": {
          "base_uri": "https://localhost:8080/",
          "height": 35
        }
      },
      "source": [
        "#Fórmula de Bhaskara (usando IF)\n",
        "delta = -100\n",
        "if delta > 0: # 'if' -> 'se'\n",
        "  print(\"Tem 2 raízes reais\")\n",
        "if delta < 0:\n",
        "  print(\"Não tem raízes reais\")\n",
        "if delta == 0:\n",
        "  print(\"Tem 1 raíz real\")"
      ],
      "execution_count": null,
      "outputs": [
        {
          "output_type": "stream",
          "text": [
            "Não tem raízes reais\n"
          ],
          "name": "stdout"
        }
      ]
    },
    {
      "cell_type": "code",
      "metadata": {
        "id": "rBfSshta0ze1"
      },
      "source": [
        "#Fórmula de Bhaskara (usando IF, ELSE)\n",
        "delta = -100\n",
        "if delta > 0: # 'if' -> 'se'\n",
        "  print(\"Delta é maior que 0\")\n",
        "else:                                  # 'else' -> 'ou'\n",
        "  print(\"Delta é menor ou igaul a 0\")"
      ],
      "execution_count": null,
      "outputs": []
    },
    {
      "cell_type": "code",
      "metadata": {
        "id": "H6JX79wh1Ez6",
        "outputId": "e8b28c57-5e54-4135-cee4-74642014d2a2",
        "colab": {
          "base_uri": "https://localhost:8080/",
          "height": 52
        }
      },
      "source": [
        "#Fórmula de Bhaskara (usando IF, ELIF, ELSE)\n",
        "delta = 200\n",
        "if delta > 0: # 'if' -> 'se'\n",
        "  print(\"Delta é maior que 0\")\n",
        "elif delta == 0:                      # 'elif' -> 'senão'\n",
        "  print(\"Delta é 0\")\n",
        "else:\n",
        "  print(\"Delta é menor ou igaul a 0\")\n",
        "print(\"Termina o programa\")"
      ],
      "execution_count": null,
      "outputs": [
        {
          "output_type": "stream",
          "text": [
            "Delta é maior que 0\n",
            "Termina o programa\n"
          ],
          "name": "stdout"
        }
      ]
    },
    {
      "cell_type": "markdown",
      "metadata": {
        "id": "zHm-bK727bYi"
      },
      "source": [
        "**### Exercício**\n",
        "\n",
        "Dada a tabela o Imposto de Renda IR, faça um programa que recebe o salário de um trabalhador e devolve o valor do imposto.\n",
        "\n",
        "Base de cálculo\t(R$)             |Alíquota (%)\n",
        "De R$ 1.903,99 até R$ 2.826,65\t |7,5%\t\n",
        "De R$ 2.826,66 até R$ 3.751,05\t |15%\t\n",
        "De R$ 3.751,06 até R$ 4.664,68\t |22,5%\t\n",
        "Acima de R$ 4.664,68           \t |27,5%\t"
      ]
    },
    {
      "cell_type": "code",
      "metadata": {
        "id": "3YR2NmX044Vn",
        "outputId": "a7f47286-2cc4-476c-d224-12fea3ca5b30",
        "colab": {
          "base_uri": "https://localhost:8080/",
          "height": 52
        }
      },
      "source": [
        "#Solução\n",
        "salario = float(input(\"Digite seu salário mensal: \"))\n",
        "if salario < 1903.99:\n",
        "  valor = 0\n",
        "elif salario <= 2826.65:\n",
        "  valor = salario * 0.075\n",
        "elif salario <= 3751.05:\n",
        "  valor = salario * 0.15\n",
        "elif salario <= 4664.68:\n",
        "  valor = salario * 0.225\n",
        "else:\n",
        "  valor = salario * 0.275\n",
        "print(f\"O valor a ser pago de IR é R${valor:.2f}\")"
      ],
      "execution_count": null,
      "outputs": [
        {
          "output_type": "stream",
          "text": [
            "Digite seu salário mensal: 50000\n",
            "O valor a ser pago de IR é R$13750.00\n"
          ],
          "name": "stdout"
        }
      ]
    },
    {
      "cell_type": "markdown",
      "metadata": {
        "id": "f6_HSZglusWz"
      },
      "source": [
        "O TAB nos Sistemas Operacionais tem códigos distintos. No entanto, pode ser melhor usar o espaço."
      ]
    },
    {
      "cell_type": "markdown",
      "metadata": {
        "id": "t_3jPIRCRuLl"
      },
      "source": [
        "# Laços de repetição"
      ]
    },
    {
      "cell_type": "markdown",
      "metadata": {
        "id": "e7KoKb_pR0Qa"
      },
      "source": [
        "## While (enquanto)"
      ]
    },
    {
      "cell_type": "code",
      "metadata": {
        "id": "vLwOuQHdSBhV",
        "outputId": "64b0d540-44ac-41e2-e6e5-c521289cd1cf",
        "colab": {
          "base_uri": "https://localhost:8080/",
          "height": 69
        }
      },
      "source": [
        "numero = 0\n",
        "while numero < 10:              # 'while' -> 'enquanto'\n",
        "  print(\"O valor de número é: \", numero)\n",
        "  numero += 1\n",
        "# Se você colocar 'while' 'True', ele vai rodar infinitamente. Sugiro não fazer se a tua máquina não for da NASA!"
      ],
      "execution_count": null,
      "outputs": [
        {
          "output_type": "stream",
          "text": [
            "O valor de número é:  0\n",
            "O valor de número é:  4\n",
            "O valor de número é:  8\n"
          ],
          "name": "stdout"
        }
      ]
    },
    {
      "cell_type": "code",
      "metadata": {
        "id": "gLZ-p_m-_OM0",
        "outputId": "c7bbea87-2b03-4db9-d746-ac73e27265ec",
        "colab": {
          "base_uri": "https://localhost:8080/",
          "height": 87
        }
      },
      "source": [
        "numero = 0\n",
        "while numero < 10:              # 'while' -> 'enquanto'\n",
        "  print(\"O valor de número é: \", numero)\n",
        "  numero += 3"
      ],
      "execution_count": null,
      "outputs": [
        {
          "output_type": "stream",
          "text": [
            "O valor de número é:  0\n",
            "O valor de número é:  3\n",
            "O valor de número é:  6\n",
            "O valor de número é:  9\n"
          ],
          "name": "stdout"
        }
      ]
    },
    {
      "cell_type": "code",
      "metadata": {
        "id": "TdTcjBcJ-U_m",
        "outputId": "1e26a4af-a40b-4e13-fb5c-fd11ef939f2c",
        "colab": {
          "base_uri": "https://localhost:8080/",
          "height": 170
        }
      },
      "source": [
        "numero = 1\n",
        "while numero > 0:\n",
        "  numero = int(input(\"Digite um número: \"))\n",
        "  print(\"Você digitou o número\", numero)\n",
        "print(\"Terminou\")"
      ],
      "execution_count": null,
      "outputs": [
        {
          "output_type": "stream",
          "text": [
            "Digite um número: 1000\n",
            "Você digitou o número 1000\n",
            "Digite um número: 2000\n",
            "Você digitou o número 2000\n",
            "Digite um número: 3000\n",
            "Você digitou o número 3000\n",
            "Digite um número: 0\n",
            "Você digitou o número 0\n",
            "Terminou\n"
          ],
          "name": "stdout"
        }
      ]
    },
    {
      "cell_type": "code",
      "metadata": {
        "id": "8d1sBucV-eIM",
        "outputId": "8510bd1a-3616-453a-eaf0-8f1630b41727",
        "colab": {
          "base_uri": "https://localhost:8080/",
          "height": 170
        }
      },
      "source": [
        "numero = 1\n",
        "while numero != 0:\n",
        "  numero = int(input(\"Digite um número: \"))\n",
        "  print(\"Você digitou o número\", numero)\n",
        "print(\"Terminou\")"
      ],
      "execution_count": null,
      "outputs": [
        {
          "output_type": "stream",
          "text": [
            "Digite um número: 1000\n",
            "Você digitou o número 1000\n",
            "Digite um número: 2000\n",
            "Você digitou o número 2000\n",
            "Digite um número: 3000\n",
            "Você digitou o número 3000\n",
            "Digite um número: 0\n",
            "Você digitou o número 0\n",
            "Terminou\n"
          ],
          "name": "stdout"
        }
      ]
    },
    {
      "cell_type": "markdown",
      "metadata": {
        "id": "Vs5AG3tpR5Tg"
      },
      "source": [
        "## For (para cada)\n",
        "é como se fosse o for it do JAVA\n",
        "\n",
        "O WHILE faz tudo que o FOR faz, mas o FOR não faz tudo que o WHILE faz."
      ]
    },
    {
      "cell_type": "code",
      "metadata": {
        "id": "ExWJ18MCSEfC",
        "outputId": "2408b8db-03a9-4b20-995b-f0462f4a6dad",
        "colab": {
          "base_uri": "https://localhost:8080/",
          "height": 102
        }
      },
      "source": [
        "for i in range(5):         # para cada 'i' faça ()\n",
        "  print(\"A variável i vale:\", i)\n",
        "  "
      ],
      "execution_count": null,
      "outputs": [
        {
          "output_type": "stream",
          "text": [
            "A variável i vale: 0\n",
            "A variável i vale: 1\n",
            "A variável i vale: 2\n",
            "A variável i vale: 3\n",
            "A variável i vale: 4\n"
          ],
          "name": "stdout"
        }
      ]
    },
    {
      "cell_type": "code",
      "metadata": {
        "id": "5MJ3SG7f_zRA",
        "outputId": "d7450a41-7837-40b0-8709-9bc7c367b6ed",
        "colab": {
          "base_uri": "https://localhost:8080/",
          "height": 187
        }
      },
      "source": [
        "for i in range(10):\n",
        "  print(\"A variável i vale:\", i)"
      ],
      "execution_count": null,
      "outputs": [
        {
          "output_type": "stream",
          "text": [
            "A variável i vale: 0\n",
            "A variável i vale: 1\n",
            "A variável i vale: 2\n",
            "A variável i vale: 3\n",
            "A variável i vale: 4\n",
            "A variável i vale: 5\n",
            "A variável i vale: 6\n",
            "A variável i vale: 7\n",
            "A variável i vale: 8\n",
            "A variável i vale: 9\n"
          ],
          "name": "stdout"
        }
      ]
    },
    {
      "cell_type": "code",
      "metadata": {
        "id": "JB0I9q_i_-hI",
        "outputId": "6ad1ffd8-5ff2-46c3-9c6a-8bf2fb1a1af8",
        "colab": {
          "base_uri": "https://localhost:8080/",
          "height": 102
        }
      },
      "source": [
        "for i in [2, 5, 8, 3, 4]:\n",
        "  print(\"A variável i vale:\", i)"
      ],
      "execution_count": null,
      "outputs": [
        {
          "output_type": "stream",
          "text": [
            "A variável i vale: 2\n",
            "A variável i vale: 5\n",
            "A variável i vale: 8\n",
            "A variável i vale: 3\n",
            "A variável i vale: 4\n"
          ],
          "name": "stdout"
        }
      ]
    },
    {
      "cell_type": "code",
      "metadata": {
        "id": "htG7LG60AwtS",
        "outputId": "652d167c-1bb9-4cf3-ebae-4e9b538c3159",
        "colab": {
          "base_uri": "https://localhost:8080/",
          "height": 102
        }
      },
      "source": [
        "for i in range(5, 10):\n",
        "  print(\"A variável i vale:\", i)"
      ],
      "execution_count": null,
      "outputs": [
        {
          "output_type": "stream",
          "text": [
            "A variável i vale: 5\n",
            "A variável i vale: 6\n",
            "A variável i vale: 7\n",
            "A variável i vale: 8\n",
            "A variável i vale: 9\n"
          ],
          "name": "stdout"
        }
      ]
    },
    {
      "cell_type": "code",
      "metadata": {
        "id": "vzVbkOQ_BJ1M",
        "outputId": "3fd59a81-5cba-44ad-c03d-b32fb7bba5ec",
        "colab": {
          "base_uri": "https://localhost:8080/",
          "height": 187
        }
      },
      "source": [
        "i = 99\n",
        "for i in range(10, 101, 10):\n",
        "  print(\"A variável i vale:\", i)"
      ],
      "execution_count": null,
      "outputs": [
        {
          "output_type": "stream",
          "text": [
            "A variável i vale: 10\n",
            "A variável i vale: 20\n",
            "A variável i vale: 30\n",
            "A variável i vale: 40\n",
            "A variável i vale: 50\n",
            "A variável i vale: 60\n",
            "A variável i vale: 70\n",
            "A variável i vale: 80\n",
            "A variável i vale: 90\n",
            "A variável i vale: 100\n"
          ],
          "name": "stdout"
        }
      ]
    },
    {
      "cell_type": "code",
      "metadata": {
        "id": "bg9TzcFCBgQj",
        "outputId": "94859a19-8d73-4d8e-f215-d4a4d2f5082c",
        "colab": {
          "base_uri": "https://localhost:8080/",
          "height": 85
        }
      },
      "source": [
        "i = 99\n",
        "for i in [5, 3, 2, -1]:\n",
        "  print(\"A variável i vale:\", i)"
      ],
      "execution_count": null,
      "outputs": [
        {
          "output_type": "stream",
          "text": [
            "A variável i vale: 5\n",
            "A variável i vale: 3\n",
            "A variável i vale: 2\n",
            "A variável i vale: -1\n"
          ],
          "name": "stdout"
        }
      ]
    },
    {
      "cell_type": "markdown",
      "metadata": {
        "id": "Z0X8VVoXOBdl"
      },
      "source": [
        "# Coleções de dados"
      ]
    },
    {
      "cell_type": "markdown",
      "metadata": {
        "id": "UaUM36SEOLB9"
      },
      "source": [
        "### Listas"
      ]
    },
    {
      "cell_type": "code",
      "metadata": {
        "id": "E9iNXUgHOEBt"
      },
      "source": [
        ""
      ],
      "execution_count": null,
      "outputs": []
    },
    {
      "cell_type": "markdown",
      "metadata": {
        "id": "-NL7Brd7OXQK"
      },
      "source": [
        "## Dicionários"
      ]
    },
    {
      "cell_type": "code",
      "metadata": {
        "id": "r4EImW7MSHBz"
      },
      "source": [
        ""
      ],
      "execution_count": null,
      "outputs": []
    },
    {
      "cell_type": "markdown",
      "metadata": {
        "id": "DKE8lbKVT670"
      },
      "source": [
        "## Tuplas"
      ]
    },
    {
      "cell_type": "code",
      "metadata": {
        "id": "p8xl5azdT9sy"
      },
      "source": [
        ""
      ],
      "execution_count": null,
      "outputs": []
    },
    {
      "cell_type": "markdown",
      "metadata": {
        "id": "68aRt2zTT-Vq"
      },
      "source": [
        "## Muitas outras coleções!"
      ]
    },
    {
      "cell_type": "markdown",
      "metadata": {
        "id": "lGl4nOxCSHgX"
      },
      "source": [
        "# Funções"
      ]
    },
    {
      "cell_type": "markdown",
      "metadata": {
        "id": "cfLR7Q05OHzK"
      },
      "source": [
        ""
      ]
    }
  ]
}